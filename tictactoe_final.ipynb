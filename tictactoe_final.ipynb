{
 "cells": [
  {
   "cell_type": "markdown",
   "metadata": {},
   "source": [
    "# Estimating the number of possible states in a Tic-Tac-Toe Game\n",
    "\n",
    "- Will not stop until all the spaces have been filled. A player might win before all the spaces are filled, but they shall continue for the sake of uniformity\n",
    "- Number of possible decision sequences are **9! = 362880**\n",
    "- Takes atleast 5 moves to win the game"
   ]
  },
  {
   "cell_type": "markdown",
   "metadata": {},
   "source": [
    "## Excercise 3: Creating an AI randomly.\n",
    "\n",
    "- Creating a framework for AI experimentation\n",
    "- Assumption: - AI always starts the game\n",
    "\n",
    "- Create a function that prints internal representation and allow you opponent to enter a move randomly.\n",
    "- Determine whether a player has won."
   ]
  },
  {
   "cell_type": "markdown",
   "metadata": {},
   "source": [
    "## Define all the constants"
   ]
  },
  {
   "cell_type": "code",
   "execution_count": 2,
   "metadata": {},
   "outputs": [],
   "source": [
    "\n",
    "from random import choice\n",
    "\n",
    "combo_indices = [\n",
    "    [0, 1, 2],\n",
    "    [3, 4, 5],\n",
    "    [6, 7, 8],\n",
    "    [0, 3, 6],\n",
    "    [1, 4, 7],\n",
    "    [2, 5, 8],\n",
    "    [0, 4, 8],\n",
    "    [2, 4, 6]\n",
    "]\n",
    "\n",
    "EMPTY_SIGN = '.'\n",
    "AI_SIGN = 'X'\n",
    "OPPONENT_SIGN = 'O'\n"
   ]
  },
  {
   "cell_type": "code",
   "execution_count": 3,
   "metadata": {},
   "outputs": [],
   "source": [
    "def print_board(board):\n",
    "    print(' ')\n",
    "    print(' '.join(board[:3]))\n",
    "    print(' '.join(board[3:6]))\n",
    "    print(' '.join(board[6:]))\n",
    "    print(\" \")\n",
    "    "
   ]
  },
  {
   "cell_type": "code",
   "execution_count": 4,
   "metadata": {},
   "outputs": [],
   "source": [
    "def opponent_move(board, row, column):\n",
    "    index = 3*(row -1)+(column-1)\n",
    "    if board[index] == EMPTY_SIGN:\n",
    "        return board[:index] + OPPONENT_SIGN + board[index+1:]\n",
    "    return board"
   ]
  },
  {
   "cell_type": "code",
   "execution_count": 5,
   "metadata": {},
   "outputs": [],
   "source": [
    "def game_won_by(board):\n",
    "    for index in combo_indices:\n",
    "        if board[index[0]] ==  board[index[1]] == board[index[2]] != EMPTY_SIGN:\n",
    "            return board[index[0]]\n",
    "    return EMPTY_SIGN"
   ]
  },
  {
   "cell_type": "code",
   "execution_count": 6,
   "metadata": {},
   "outputs": [],
   "source": [
    "\n",
    "def all_moves_from_board_list(board_list, sign):\n",
    "    move_list = []\n",
    "    for board in board_list:\n",
    "        move_list.extend(all_moves_from_board(board, sign))\n",
    "    return move_list"
   ]
  },
  {
   "cell_type": "code",
   "execution_count": 7,
   "metadata": {},
   "outputs": [],
   "source": [
    "def player_can_win(board, sign):\n",
    "    next_moves = all_moves_from_board(board, sign)\n",
    "    for next_move in next_moves:\n",
    "        if game_won_by(next_move) == sign:\n",
    "            return True\n",
    "    return False"
   ]
  },
  {
   "cell_type": "code",
   "execution_count": 8,
   "metadata": {},
   "outputs": [],
   "source": [
    "def ai_move(board):\n",
    "    new_boards = all_moves_from_board(board, AI_SIGN)\n",
    "    for new_board in new_boards:\n",
    "        if game_won_by(new_board) == AI_SIGN:\n",
    "            return new_board\n",
    "    safe_moves = []\n",
    "    for new_board in new_boards:\n",
    "        if not player_can_win(new_board, OPPONENT_SIGN):\n",
    "            safe_moves.append(new_board)\n",
    "    return choice(safe_moves) if len(safe_moves) > 0 else new_boards[0]\n"
   ]
  },
  {
   "cell_type": "code",
   "execution_count": 9,
   "metadata": {},
   "outputs": [],
   "source": [
    "def all_moves_from_board(board, sign):\n",
    "    if sign == AI_SIGN:\n",
    "        empty_field_count = board.count(EMPTY_SIGN)\n",
    "        if empty_field_count == 9:\n",
    "            return [sign + EMPTY_SIGN * 8]\n",
    "        elif empty_field_count == 7:\n",
    "            return [\n",
    "                board[:8] + sign if board[8] == EMPTY_SIGN else\n",
    "                board[:4] + sign + board[5:]\n",
    "            ]\n",
    "    move_list = []\n",
    "    for i, v in enumerate(board):\n",
    "        if v == EMPTY_SIGN:\n",
    "            new_board = board[:i] + sign + board[i+1:]\n",
    "            move_list.append(new_board)\n",
    "            if game_won_by(new_board) == AI_SIGN:\n",
    "                return [new_board]\n",
    "    if sign == AI_SIGN:\n",
    "        safe_moves = []\n",
    "        for move in move_list:\n",
    "            if not player_can_win(move, OPPONENT_SIGN):\n",
    "                safe_moves.append(move)\n",
    "        return safe_moves if len(safe_moves) > 0 else move_list[0:1]\n",
    "    else:\n",
    "        return move_list"
   ]
  },
  {
   "cell_type": "code",
   "execution_count": 10,
   "metadata": {},
   "outputs": [],
   "source": [
    "def game_loop():\n",
    "    board = EMPTY_SIGN * 9\n",
    "    empty_cell_count = 9\n",
    "    is_game_ended = False\n",
    "    while empty_cell_count > 0 and not is_game_ended:\n",
    "        if empty_cell_count % 2 == 1:\n",
    "            board = ai_move(board)\n",
    "        else:\n",
    "            row = int(input(\"Enter row: \"))\n",
    "            col = int(input(\"Enter column: \"))\n",
    "            board = opponent_move(board, row, col)\n",
    "        print_board(board)\n",
    "\n",
    "        is_game_ended = game_won_by(board) != EMPTY_SIGN\n",
    "        empty_cell_count = sum(1 for cell in board if cell == EMPTY_SIGN) "
   ]
  },
  {
   "cell_type": "code",
   "execution_count": 11,
   "metadata": {},
   "outputs": [],
   "source": [
    "\n",
    "def filter_wins(move_list, ai_wins, opponent_wins):\n",
    "    for board in move_list:\n",
    "        won_by = game_won_by(board)\n",
    "        if won_by == AI_SIGN:\n",
    "            ai_wins.append(board)\n",
    "            move_list.remove(board)\n",
    "        elif won_by == OPPONENT_SIGN:\n",
    "            opponent_wins.append(board)\n",
    "            move_list.remove(board)\n",
    "\n",
    "\n",
    "def count_possibilities():\n",
    "    board = EMPTY_SIGN * 9\n",
    "    move_list = [board]\n",
    "    ai_wins = []\n",
    "    opponent_wins = []\n",
    "    for i in range(9):\n",
    "        print('step ' + str(i) + '. Moves: ' + str(len(move_list)))\n",
    "        sign = AI_SIGN if i % 2 == 0 else OPPONENT_SIGN\n",
    "        move_list = all_moves_from_board_list(move_list, sign)\n",
    "        filter_wins(move_list, ai_wins, opponent_wins)\n",
    "    print('First player wins: ' + str(len(ai_wins)))\n",
    "    print('Second player wins: ' + str(len(opponent_wins)))\n",
    "    print('Draw', str(len(move_list)))\n",
    "    print('Total', str(len(ai_wins) + len(opponent_wins) + len(move_list)))"
   ]
  },
  {
   "cell_type": "code",
   "execution_count": 12,
   "metadata": {},
   "outputs": [
    {
     "name": "stdout",
     "output_type": "stream",
     "text": [
      "step 0. Moves: 1\n",
      "step 1. Moves: 1\n",
      "step 2. Moves: 8\n",
      "step 3. Moves: 8\n",
      "step 4. Moves: 48\n",
      "step 5. Moves: 38\n",
      "step 6. Moves: 108\n",
      "step 7. Moves: 76\n",
      "step 8. Moves: 90\n",
      "First player wins: 128\n",
      "Second player wins: 0\n",
      "Draw 60\n",
      "Total 188\n"
     ]
    }
   ],
   "source": [
    "count_possibilities()"
   ]
  },
  {
   "cell_type": "code",
   "execution_count": 14,
   "metadata": {},
   "outputs": [
    {
     "name": "stdout",
     "output_type": "stream",
     "text": [
      " \n",
      "X . .\n",
      ". . .\n",
      ". . .\n",
      " \n",
      " \n",
      "X O .\n",
      ". . .\n",
      ". . .\n",
      " \n",
      " \n",
      "X O .\n",
      ". . .\n",
      ". . X\n",
      " \n",
      " \n",
      "X O O\n",
      ". . .\n",
      ". . X\n",
      " \n",
      " \n",
      "X O O\n",
      ". X .\n",
      ". . X\n",
      " \n"
     ]
    }
   ],
   "source": [
    "game_loop()"
   ]
  },
  {
   "cell_type": "code",
   "execution_count": null,
   "metadata": {},
   "outputs": [],
   "source": []
  }
 ],
 "metadata": {
  "kernelspec": {
   "display_name": "Python 3.10.4 64-bit",
   "language": "python",
   "name": "python3"
  },
  "language_info": {
   "codemirror_mode": {
    "name": "ipython",
    "version": 3
   },
   "file_extension": ".py",
   "mimetype": "text/x-python",
   "name": "python",
   "nbconvert_exporter": "python",
   "pygments_lexer": "ipython3",
   "version": "3.10.4"
  },
  "orig_nbformat": 4,
  "vscode": {
   "interpreter": {
    "hash": "916dbcbb3f70747c44a77c7bcd40155683ae19c65e1c03b4aa3499c5328201f1"
   }
  }
 },
 "nbformat": 4,
 "nbformat_minor": 2
}
