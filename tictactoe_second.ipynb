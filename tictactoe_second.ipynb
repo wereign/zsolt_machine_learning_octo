{
 "cells": [
  {
   "cell_type": "markdown",
   "metadata": {},
   "source": [
    "# Estimating the number of possible states in a Tic-Tac-Toe Game\n",
    "\n",
    "- Will not stop until all the spaces have been filled. A player might win before all the spaces are filled, but they shall continue for the sake of uniformity\n",
    "- Number of possible decision sequences are **9! = 362880**\n",
    "- Takes atleast 5 moves to win the game"
   ]
  },
  {
   "cell_type": "markdown",
   "metadata": {},
   "source": [
    "## Excercise 3: Creating an AI randomly.\n",
    "\n",
    "- Creating a framework for AI experimentation\n",
    "- Assumption: - AI always starts the game\n",
    "\n",
    "- Create a function that prints internal representation and allow you opponent to enter a move randomly.\n",
    "- Determine whether a player has won."
   ]
  },
  {
   "cell_type": "markdown",
   "metadata": {},
   "source": [
    "## Define all the constants"
   ]
  },
  {
   "cell_type": "code",
   "execution_count": 53,
   "metadata": {},
   "outputs": [],
   "source": [
    "\n",
    "from random import choice\n",
    "\n",
    "combo_indices = [\n",
    "    [0, 1, 2],\n",
    "    [3, 4, 5],\n",
    "    [6, 7, 8],\n",
    "    [0, 3, 6],\n",
    "    [1, 4, 7],\n",
    "    [2, 5, 8],\n",
    "    [0, 4, 8],\n",
    "    [2, 4, 6]\n",
    "]\n",
    "\n",
    "EMPTY_SIGN = '.'\n",
    "AI_SIGN = 'X'\n",
    "OPPONENT_SIGN = 'O'\n"
   ]
  },
  {
   "cell_type": "code",
   "execution_count": 54,
   "metadata": {},
   "outputs": [],
   "source": [
    "def print_board(board):\n",
    "    print(' ')\n",
    "    print(' '.join(board[:3]))\n",
    "    print(' '.join(board[3:6]))\n",
    "    print(' '.join(board[6:]))\n",
    "    print(\" \")\n",
    "    "
   ]
  },
  {
   "cell_type": "code",
   "execution_count": 55,
   "metadata": {},
   "outputs": [],
   "source": [
    "def opponent_move(board, row, column):\n",
    "    index = 3*(row -1)+(column-1)\n",
    "    if board[index] == EMPTY_SIGN:\n",
    "        return board[:index] + OPPONENT_SIGN + board[index+1]\n",
    "    return board"
   ]
  },
  {
   "cell_type": "code",
   "execution_count": 56,
   "metadata": {},
   "outputs": [],
   "source": [
    "def game_won_by(board):\n",
    "    for index in combo_indices:\n",
    "        if board[index[0]] ==  board[index[1]] == board[index[2]] != EMPTY_SIGN:\n",
    "            return board[index[0]]\n",
    "    return EMPTY_SIGN"
   ]
  },
  {
   "cell_type": "code",
   "execution_count": 57,
   "metadata": {},
   "outputs": [],
   "source": [
    "\n",
    "def all_moves_from_board_list(board_list, sign):\n",
    "    move_list = []\n",
    "    for board in board_list:\n",
    "        move_list.extend(all_moves_from_board(board, sign))\n",
    "    return move_list"
   ]
  },
  {
   "cell_type": "code",
   "execution_count": 58,
   "metadata": {},
   "outputs": [],
   "source": [
    "def player_can_win(board, sign):\n",
    "    next_moves = all_moves_from_board(board, sign)\n",
    "    for next_move in next_moves:\n",
    "        if game_won_by(next_move) == sign:\n",
    "            return True\n",
    "    return False"
   ]
  },
  {
   "cell_type": "code",
   "execution_count": 59,
   "metadata": {},
   "outputs": [],
   "source": [
    "def ai_move(board):\n",
    "    new_boards = all_moves_from_board(board, AI_SIGN)\n",
    "    for new_board in new_boards:\n",
    "        if game_won_by(new_board) == AI_SIGN:\n",
    "            return new_board\n",
    "    safe_moves = []\n",
    "    for new_board in new_boards:\n",
    "        if not player_can_win(new_board, OPPONENT_SIGN):\n",
    "            safe_moves.append(new_board)\n",
    "    return choice(safe_moves) if len(safe_moves) > 0 else new_boards[0]\n"
   ]
  },
  {
   "cell_type": "code",
   "execution_count": 60,
   "metadata": {},
   "outputs": [],
   "source": [
    "def all_moves_from_board(board, sign):\n",
    "    if sign == AI_SIGN:\n",
    "        empty_field_count = board.count(EMPTY_SIGN)\n",
    "        if empty_field_count == 9:\n",
    "            return [sign + EMPTY_SIGN * 8]\n",
    "        elif empty_field_count == 7:\n",
    "            return [\n",
    "                board[:8] + sign if board[8] == EMPTY_SIGN else\n",
    "                board[:4] + sign + board[5:]\n",
    "            ]\n",
    "    move_list = []\n",
    "    for i, v in enumerate(board):\n",
    "        if v == EMPTY_SIGN:\n",
    "            new_board = board[:i] + sign + board[i+1:]\n",
    "            move_list.append(new_board)\n",
    "            if game_won_by(new_board) == AI_SIGN:\n",
    "                return [new_board]\n",
    "    if sign == AI_SIGN:\n",
    "        safe_moves = []\n",
    "        for move in move_list:\n",
    "            if not player_can_win(move, OPPONENT_SIGN):\n",
    "                safe_moves.append(move)\n",
    "        return safe_moves if len(safe_moves) > 0 else move_list[0:1]\n",
    "    else:\n",
    "        return move_list"
   ]
  },
  {
   "cell_type": "code",
   "execution_count": 61,
   "metadata": {},
   "outputs": [],
   "source": [
    "def game_loop():\n",
    "    board = EMPTY_SIGN * 9\n",
    "    empty_cell_count = 9\n",
    "    is_game_ended = False\n",
    "    while empty_cell_count > 0 and not is_game_ended:\n",
    "        if empty_cell_count % 2 == 1:\n",
    "            board = ai_move(board)\n",
    "        else:\n",
    "            row = int(input(\"Enter row: \"))\n",
    "            col = int(input(\"Enter column: \"))\n",
    "            board = opponent_move(board, row, col)\n",
    "        print_board(board)\n",
    "\n",
    "        is_game_ended = game_won_by(board) != EMPTY_SIGN\n",
    "        empty_cell_count = sum(1 for cell in board if cell == EMPTY_SIGN) "
   ]
  },
  {
   "cell_type": "code",
   "execution_count": 62,
   "metadata": {},
   "outputs": [],
   "source": [
    "\n",
    "def filter_wins(move_list, ai_wins, opponent_wins):\n",
    "    for board in move_list:\n",
    "        won_by = game_won_by(board)\n",
    "        if won_by == AI_SIGN:\n",
    "            ai_wins.append(board)\n",
    "            move_list.remove(board)\n",
    "        elif won_by == OPPONENT_SIGN:\n",
    "            opponent_wins.append(board)\n",
    "            move_list.remove(board)\n",
    "\n",
    "\n",
    "def count_possibilities():\n",
    "    board = EMPTY_SIGN * 9\n",
    "    move_list = [board]\n",
    "    ai_wins = []\n",
    "    opponent_wins = []\n",
    "    for i in range(9):\n",
    "        print('step ' + str(i) + '. Moves: ' + str(len(move_list)))\n",
    "        sign = AI_SIGN if i % 2 == 0 else OPPONENT_SIGN\n",
    "        move_list = all_moves_from_board_list(move_list, sign)\n",
    "        filter_wins(move_list, ai_wins, opponent_wins)\n",
    "    print('First player wins: ' + str(len(ai_wins)))\n",
    "    print('Second player wins: ' + str(len(opponent_wins)))\n",
    "    print('Draw', str(len(move_list)))\n",
    "    print('Total', str(len(ai_wins) + len(opponent_wins) + len(move_list)))"
   ]
  },
  {
   "cell_type": "code",
   "execution_count": 63,
   "metadata": {},
   "outputs": [
    {
     "name": "stdout",
     "output_type": "stream",
     "text": [
      "step 0. Moves: 1\n",
      "step 1. Moves: 1\n",
      "step 2. Moves: 8\n",
      "step 3. Moves: 8\n",
      "step 4. Moves: 48\n",
      "step 5. Moves: 38\n",
      "step 6. Moves: 108\n",
      "step 7. Moves: 76\n",
      "step 8. Moves: 90\n",
      "First player wins: 128\n",
      "Second player wins: 0\n",
      "Draw 60\n",
      "Total 188\n"
     ]
    }
   ],
   "source": [
    "count_possibilities()"
   ]
  },
  {
   "cell_type": "code",
   "execution_count": 64,
   "metadata": {},
   "outputs": [
    {
     "name": "stdout",
     "output_type": "stream",
     "text": [
      " \n",
      "X . .\n",
      ". . .\n",
      ". . .\n",
      " \n",
      " \n",
      "X . .\n",
      ". . .\n",
      "O .\n",
      " \n"
     ]
    },
    {
     "ename": "IndexError",
     "evalue": "string index out of range",
     "output_type": "error",
     "traceback": [
      "\u001b[0;31m---------------------------------------------------------------------------\u001b[0m",
      "\u001b[0;31mIndexError\u001b[0m                                Traceback (most recent call last)",
      "\u001b[1;32m/home/wereign/Desktop/Projects/zsolt_nagy/tictactoe_second.ipynb Cell 15\u001b[0m in \u001b[0;36m<cell line: 1>\u001b[0;34m()\u001b[0m\n\u001b[0;32m----> <a href='vscode-notebook-cell:/home/wereign/Desktop/Projects/zsolt_nagy/tictactoe_second.ipynb#X45sZmlsZQ%3D%3D?line=0'>1</a>\u001b[0m game_loop()\n",
      "\u001b[1;32m/home/wereign/Desktop/Projects/zsolt_nagy/tictactoe_second.ipynb Cell 15\u001b[0m in \u001b[0;36mgame_loop\u001b[0;34m()\u001b[0m\n\u001b[1;32m     <a href='vscode-notebook-cell:/home/wereign/Desktop/Projects/zsolt_nagy/tictactoe_second.ipynb#X45sZmlsZQ%3D%3D?line=10'>11</a>\u001b[0m     board \u001b[39m=\u001b[39m opponent_move(board, row, col)\n\u001b[1;32m     <a href='vscode-notebook-cell:/home/wereign/Desktop/Projects/zsolt_nagy/tictactoe_second.ipynb#X45sZmlsZQ%3D%3D?line=11'>12</a>\u001b[0m print_board(board)\n\u001b[0;32m---> <a href='vscode-notebook-cell:/home/wereign/Desktop/Projects/zsolt_nagy/tictactoe_second.ipynb#X45sZmlsZQ%3D%3D?line=13'>14</a>\u001b[0m is_game_ended \u001b[39m=\u001b[39m game_won_by(board) \u001b[39m!=\u001b[39m EMPTY_SIGN\n\u001b[1;32m     <a href='vscode-notebook-cell:/home/wereign/Desktop/Projects/zsolt_nagy/tictactoe_second.ipynb#X45sZmlsZQ%3D%3D?line=14'>15</a>\u001b[0m empty_cell_count \u001b[39m=\u001b[39m \u001b[39msum\u001b[39m(\u001b[39m1\u001b[39m \u001b[39mfor\u001b[39;00m cell \u001b[39min\u001b[39;00m board \u001b[39mif\u001b[39;00m cell \u001b[39m==\u001b[39m EMPTY_SIGN)\n",
      "\u001b[1;32m/home/wereign/Desktop/Projects/zsolt_nagy/tictactoe_second.ipynb Cell 15\u001b[0m in \u001b[0;36mgame_won_by\u001b[0;34m(board)\u001b[0m\n\u001b[1;32m      <a href='vscode-notebook-cell:/home/wereign/Desktop/Projects/zsolt_nagy/tictactoe_second.ipynb#X45sZmlsZQ%3D%3D?line=0'>1</a>\u001b[0m \u001b[39mdef\u001b[39;00m \u001b[39mgame_won_by\u001b[39m(board):\n\u001b[1;32m      <a href='vscode-notebook-cell:/home/wereign/Desktop/Projects/zsolt_nagy/tictactoe_second.ipynb#X45sZmlsZQ%3D%3D?line=1'>2</a>\u001b[0m     \u001b[39mfor\u001b[39;00m index \u001b[39min\u001b[39;00m combo_indices:\n\u001b[0;32m----> <a href='vscode-notebook-cell:/home/wereign/Desktop/Projects/zsolt_nagy/tictactoe_second.ipynb#X45sZmlsZQ%3D%3D?line=2'>3</a>\u001b[0m         \u001b[39mif\u001b[39;00m board[index[\u001b[39m0\u001b[39m]] \u001b[39m==\u001b[39m  board[index[\u001b[39m1\u001b[39m]] \u001b[39m==\u001b[39m board[index[\u001b[39m2\u001b[39;49m]] \u001b[39m!=\u001b[39m EMPTY_SIGN:\n\u001b[1;32m      <a href='vscode-notebook-cell:/home/wereign/Desktop/Projects/zsolt_nagy/tictactoe_second.ipynb#X45sZmlsZQ%3D%3D?line=3'>4</a>\u001b[0m             \u001b[39mreturn\u001b[39;00m board[index[\u001b[39m0\u001b[39m]]\n\u001b[1;32m      <a href='vscode-notebook-cell:/home/wereign/Desktop/Projects/zsolt_nagy/tictactoe_second.ipynb#X45sZmlsZQ%3D%3D?line=4'>5</a>\u001b[0m     \u001b[39mreturn\u001b[39;00m EMPTY_SIGN\n",
      "\u001b[0;31mIndexError\u001b[0m: string index out of range"
     ]
    }
   ],
   "source": [
    "game_loop()"
   ]
  },
  {
   "cell_type": "code",
   "execution_count": null,
   "metadata": {},
   "outputs": [],
   "source": []
  }
 ],
 "metadata": {
  "kernelspec": {
   "display_name": "Python 3.10.4 64-bit",
   "language": "python",
   "name": "python3"
  },
  "language_info": {
   "codemirror_mode": {
    "name": "ipython",
    "version": 3
   },
   "file_extension": ".py",
   "mimetype": "text/x-python",
   "name": "python",
   "nbconvert_exporter": "python",
   "pygments_lexer": "ipython3",
   "version": "3.10.4"
  },
  "orig_nbformat": 4,
  "vscode": {
   "interpreter": {
    "hash": "916dbcbb3f70747c44a77c7bcd40155683ae19c65e1c03b4aa3499c5328201f1"
   }
  }
 },
 "nbformat": 4,
 "nbformat_minor": 2
}
