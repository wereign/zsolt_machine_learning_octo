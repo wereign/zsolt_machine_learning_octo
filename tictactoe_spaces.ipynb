{
 "cells": [
  {
   "cell_type": "markdown",
   "metadata": {},
   "source": [
    "# Estimating the number of possible states in a Tic-Tac-Toe Game\n",
    "\n",
    "- Will not stop until all the spaces have been filled. A player might win before all the spaces are filled, but they shall continue for the sake of uniformity\n",
    "- Number of possible decision sequences are **9! = 362880**\n",
    "- Takes atleast 5 moves to win the game"
   ]
  },
  {
   "cell_type": "markdown",
   "metadata": {},
   "source": [
    "## Excercise 3: Creating an AI randomly.\n",
    "\n",
    "- Creating a framework for AI experimentation\n",
    "- Assumption: - AI always starts the game\n",
    "\n",
    "- Create a function that prints internal representation and allow you opponent to enter a move randomly.\n",
    "- Determine whether a player has won."
   ]
  },
  {
   "cell_type": "markdown",
   "metadata": {},
   "source": [
    "## Define all the constants"
   ]
  },
  {
   "cell_type": "code",
   "execution_count": 3,
   "metadata": {},
   "outputs": [],
   "source": [
    "\n",
    "from random import choice\n",
    "\n",
    "combo_indices = [\n",
    "    [0, 1, 2],\n",
    "    [3, 4, 5],\n",
    "    [6, 7, 8],\n",
    "    [0, 3, 6],\n",
    "    [1, 4, 7],\n",
    "    [2, 5, 8],\n",
    "    [0, 4, 8],\n",
    "    [2, 4, 6]\n",
    "]\n",
    "\n",
    "EMPTY_SIGN = '.'\n",
    "AI_SIGN = 'X'\n",
    "OPPONENT_SIGN = 'O'\n"
   ]
  },
  {
   "cell_type": "markdown",
   "metadata": {},
   "source": [
    "## Create a function that prints the board"
   ]
  },
  {
   "cell_type": "code",
   "execution_count": 4,
   "metadata": {},
   "outputs": [],
   "source": [
    "def print_board(board):\n",
    "    print(\" \")\n",
    "    print(' '.join(board[:3]))\n",
    "    print(' '.join(board[3:6]))\n",
    "    print(' '.join(board[6:]))\n",
    "    print(\" \")"
   ]
  },
  {
   "cell_type": "markdown",
   "metadata": {},
   "source": [
    "## Oponent Player Move"
   ]
  },
  {
   "cell_type": "code",
   "execution_count": 5,
   "metadata": {},
   "outputs": [],
   "source": [
    "def opponent_move(board, row, column):\n",
    "    index = 3 * (row - 1) + (column - 1)\n",
    "    if board[index] == EMPTY_SIGN:\n",
    "        return board[:index] + OPPONENT_SIGN + board[index+1:]\n",
    "    return board\n"
   ]
  },
  {
   "cell_type": "markdown",
   "metadata": {},
   "source": [
    "## AI random move player"
   ]
  },
  {
   "cell_type": "code",
   "execution_count": 6,
   "metadata": {},
   "outputs": [],
   "source": [
    "\n",
    "def all_moves_from_board(board, sign):\n",
    "    move_list = []\n",
    "    for i, v in enumerate(board):\n",
    "        if v == EMPTY_SIGN:\n",
    "            move_list.append(board[:i] + sign + board[i+1:])\n",
    "    return move_list\n",
    "\n",
    "\n",
    "def ai_move(board):\n",
    "    return choice(all_moves_from_board(board, AI_SIGN))"
   ]
  },
  {
   "cell_type": "markdown",
   "metadata": {},
   "source": [
    "## Determine if a player won the game"
   ]
  },
  {
   "cell_type": "code",
   "execution_count": 7,
   "metadata": {},
   "outputs": [],
   "source": [
    "def game_won_by(board):\n",
    "    for index in combo_indices:\n",
    "        if board[index[0]] == board[index[1]] == board[index[2]] != EMPTY_SIGN:\n",
    "            return board[index[0]]\n",
    "    return EMPTY_SIGN"
   ]
  },
  {
   "cell_type": "markdown",
   "metadata": {},
   "source": [
    "## A Game Loop \n",
    "\n",
    "**To test the interaction between a computer player and the human player** "
   ]
  },
  {
   "cell_type": "code",
   "execution_count": 8,
   "metadata": {},
   "outputs": [],
   "source": [
    "def all_moves_from_board_list(board_list, sign):\n",
    "    move_list = []\n",
    "    for board in board_list:\n",
    "        move_list.extend(all_moves_from_board(board, sign))\n",
    "    return move_list\n",
    "\n",
    "\n",
    "def filter_wins(move_list, ai_wins, opponent_wins):\n",
    "    for board in move_list:\n",
    "        won_by = game_won_by(board)\n",
    "        if won_by == AI_SIGN:\n",
    "            ai_wins.append(board)\n",
    "            move_list.remove(board)\n",
    "        elif won_by == OPPONENT_SIGN:\n",
    "            opponent_wins.append(board)\n",
    "            move_list.remove(board)\n",
    "\n",
    "\n",
    "def count_possibilities():\n",
    "    board = EMPTY_SIGN * 9\n",
    "    move_list = [board]\n",
    "    ai_wins = []\n",
    "    opponent_wins = []\n",
    "    for i in range(9):\n",
    "        print('step ' + str(i) + '. Moves: ' + str(len(move_list)))\n",
    "        sign = AI_SIGN if i % 2 == 0 else OPPONENT_SIGN\n",
    "        move_list = all_moves_from_board_list(move_list, sign)\n",
    "        filter_wins(move_list, ai_wins, opponent_wins)\n",
    "    print('First player wins: ' + str(len(ai_wins)))\n",
    "    print('Second player wins: ' + str(len(opponent_wins)))\n",
    "    print('Draw', str(len(move_list)))\n",
    "    print('Total', str(len(ai_wins) + len(opponent_wins) + len(move_list)))"
   ]
  },
  {
   "cell_type": "code",
   "execution_count": 9,
   "metadata": {},
   "outputs": [],
   "source": [
    "def game_loop():\n",
    "    board = EMPTY_SIGN * 9\n",
    "    empty_cell_count = 9\n",
    "    is_game_ended = False\n",
    "    while empty_cell_count > 0 and not is_game_ended:\n",
    "        if empty_cell_count % 2 == 1:\n",
    "            board = ai_move(board)\n",
    "        else:\n",
    "            row = int(input('Enter row: '))\n",
    "            col = int(input('Enter column: '))\n",
    "            board = opponent_move(board, row, col)\n",
    "        print_board(board)\n",
    "        is_game_ended = game_won_by(board) != EMPTY_SIGN\n",
    "        empty_cell_count = sum(1 for cell in board if cell == EMPTY_SIGN)\n",
    "    print('Game has been ended.')"
   ]
  },
  {
   "cell_type": "code",
   "execution_count": null,
   "metadata": {},
   "outputs": [],
   "source": [
    "game_loop()"
   ]
  },
  {
   "cell_type": "markdown",
   "metadata": {},
   "source": [
    "## Counting the wins and draws in a decision tree"
   ]
  },
  {
   "cell_type": "code",
   "execution_count": 11,
   "metadata": {},
   "outputs": [],
   "source": [
    "def all_moves_from_board_list(board_list, sign):\n",
    "    move_list = []\n",
    "    for board in board_list:\n",
    "        move_list.extend(all_moves_from_board(board, sign))\n",
    "    return move_list\n",
    "\n",
    "\n",
    "def filter_wins(move_list, ai_wins, opponent_wins):\n",
    "    for board in move_list:\n",
    "        won_by = game_won_by(board)\n",
    "        if won_by == AI_SIGN:\n",
    "            ai_wins.append(board)\n",
    "            move_list.remove(board)\n",
    "        elif won_by == OPPONENT_SIGN:\n",
    "            opponent_wins.append(board)\n",
    "            move_list.remove(board)\n",
    "\n",
    "\n",
    "def count_possibilities():\n",
    "    board = EMPTY_SIGN * 9\n",
    "    move_list = [board]\n",
    "    ai_wins = []\n",
    "    opponent_wins = []\n",
    "    for i in range(9):\n",
    "        print('step ' + str(i) + '. Moves: ' + str(len(move_list)))\n",
    "        sign = AI_SIGN if i % 2 == 0 else OPPONENT_SIGN\n",
    "        move_list = all_moves_from_board_list(move_list, sign)\n",
    "        filter_wins(move_list, ai_wins, opponent_wins)\n",
    "    print('First player wins: ' + str(len(ai_wins)))\n",
    "    print('Second player wins: ' + str(len(opponent_wins)))\n",
    "    print('Draw', str(len(move_list)))\n",
    "    print('Total', str(len(ai_wins) + len(opponent_wins) + len(move_list)))"
   ]
  },
  {
   "cell_type": "code",
   "execution_count": 12,
   "metadata": {},
   "outputs": [
    {
     "name": "stdout",
     "output_type": "stream",
     "text": [
      "step 0. Moves: 1\n",
      "step 1. Moves: 9\n",
      "step 2. Moves: 72\n",
      "step 3. Moves: 504\n",
      "step 4. Moves: 3024\n",
      "step 5. Moves: 13680\n",
      "step 6. Moves: 49402\n"
     ]
    },
    {
     "ename": "KeyboardInterrupt",
     "evalue": "",
     "output_type": "error",
     "traceback": [
      "\u001b[0;31m---------------------------------------------------------------------------\u001b[0m",
      "\u001b[0;31mKeyboardInterrupt\u001b[0m                         Traceback (most recent call last)",
      "\u001b[1;32m/home/wereign/Desktop/Projects/zsolt_nagy/tictactoe_spaces.ipynb Cell 19\u001b[0m in \u001b[0;36m<cell line: 1>\u001b[0;34m()\u001b[0m\n\u001b[0;32m----> <a href='vscode-notebook-cell:/home/wereign/Desktop/Projects/zsolt_nagy/tictactoe_spaces.ipynb#X21sZmlsZQ%3D%3D?line=0'>1</a>\u001b[0m count_possibilities()\n",
      "\u001b[1;32m/home/wereign/Desktop/Projects/zsolt_nagy/tictactoe_spaces.ipynb Cell 19\u001b[0m in \u001b[0;36mcount_possibilities\u001b[0;34m()\u001b[0m\n\u001b[1;32m     <a href='vscode-notebook-cell:/home/wereign/Desktop/Projects/zsolt_nagy/tictactoe_spaces.ipynb#X21sZmlsZQ%3D%3D?line=25'>26</a>\u001b[0m     sign \u001b[39m=\u001b[39m AI_SIGN \u001b[39mif\u001b[39;00m i \u001b[39m%\u001b[39m \u001b[39m2\u001b[39m \u001b[39m==\u001b[39m \u001b[39m0\u001b[39m \u001b[39melse\u001b[39;00m OPPONENT_SIGN\n\u001b[1;32m     <a href='vscode-notebook-cell:/home/wereign/Desktop/Projects/zsolt_nagy/tictactoe_spaces.ipynb#X21sZmlsZQ%3D%3D?line=26'>27</a>\u001b[0m     move_list \u001b[39m=\u001b[39m all_moves_from_board_list(move_list, sign)\n\u001b[0;32m---> <a href='vscode-notebook-cell:/home/wereign/Desktop/Projects/zsolt_nagy/tictactoe_spaces.ipynb#X21sZmlsZQ%3D%3D?line=27'>28</a>\u001b[0m     filter_wins(move_list, ai_wins, opponent_wins)\n\u001b[1;32m     <a href='vscode-notebook-cell:/home/wereign/Desktop/Projects/zsolt_nagy/tictactoe_spaces.ipynb#X21sZmlsZQ%3D%3D?line=28'>29</a>\u001b[0m \u001b[39mprint\u001b[39m(\u001b[39m'\u001b[39m\u001b[39mFirst player wins: \u001b[39m\u001b[39m'\u001b[39m \u001b[39m+\u001b[39m \u001b[39mstr\u001b[39m(\u001b[39mlen\u001b[39m(ai_wins)))\n\u001b[1;32m     <a href='vscode-notebook-cell:/home/wereign/Desktop/Projects/zsolt_nagy/tictactoe_spaces.ipynb#X21sZmlsZQ%3D%3D?line=29'>30</a>\u001b[0m \u001b[39mprint\u001b[39m(\u001b[39m'\u001b[39m\u001b[39mSecond player wins: \u001b[39m\u001b[39m'\u001b[39m \u001b[39m+\u001b[39m \u001b[39mstr\u001b[39m(\u001b[39mlen\u001b[39m(opponent_wins)))\n",
      "\u001b[1;32m/home/wereign/Desktop/Projects/zsolt_nagy/tictactoe_spaces.ipynb Cell 19\u001b[0m in \u001b[0;36mfilter_wins\u001b[0;34m(move_list, ai_wins, opponent_wins)\u001b[0m\n\u001b[1;32m     <a href='vscode-notebook-cell:/home/wereign/Desktop/Projects/zsolt_nagy/tictactoe_spaces.ipynb#X21sZmlsZQ%3D%3D?line=10'>11</a>\u001b[0m \u001b[39mif\u001b[39;00m won_by \u001b[39m==\u001b[39m AI_SIGN:\n\u001b[1;32m     <a href='vscode-notebook-cell:/home/wereign/Desktop/Projects/zsolt_nagy/tictactoe_spaces.ipynb#X21sZmlsZQ%3D%3D?line=11'>12</a>\u001b[0m     ai_wins\u001b[39m.\u001b[39mappend(board)\n\u001b[0;32m---> <a href='vscode-notebook-cell:/home/wereign/Desktop/Projects/zsolt_nagy/tictactoe_spaces.ipynb#X21sZmlsZQ%3D%3D?line=12'>13</a>\u001b[0m     move_list\u001b[39m.\u001b[39;49mremove(board)\n\u001b[1;32m     <a href='vscode-notebook-cell:/home/wereign/Desktop/Projects/zsolt_nagy/tictactoe_spaces.ipynb#X21sZmlsZQ%3D%3D?line=13'>14</a>\u001b[0m \u001b[39melif\u001b[39;00m won_by \u001b[39m==\u001b[39m OPPONENT_SIGN:\n\u001b[1;32m     <a href='vscode-notebook-cell:/home/wereign/Desktop/Projects/zsolt_nagy/tictactoe_spaces.ipynb#X21sZmlsZQ%3D%3D?line=14'>15</a>\u001b[0m     opponent_wins\u001b[39m.\u001b[39mappend(board)\n",
      "\u001b[0;31mKeyboardInterrupt\u001b[0m: "
     ]
    }
   ],
   "source": [
    "count_possibilities()\n"
   ]
  },
  {
   "cell_type": "code",
   "execution_count": null,
   "metadata": {},
   "outputs": [],
   "source": []
  }
 ],
 "metadata": {
  "kernelspec": {
   "display_name": "Python 3.10.4 64-bit",
   "language": "python",
   "name": "python3"
  },
  "language_info": {
   "codemirror_mode": {
    "name": "ipython",
    "version": 3
   },
   "file_extension": ".py",
   "mimetype": "text/x-python",
   "name": "python",
   "nbconvert_exporter": "python",
   "pygments_lexer": "ipython3",
   "version": "3.10.4"
  },
  "orig_nbformat": 4,
  "vscode": {
   "interpreter": {
    "hash": "916dbcbb3f70747c44a77c7bcd40155683ae19c65e1c03b4aa3499c5328201f1"
   }
  }
 },
 "nbformat": 4,
 "nbformat_minor": 2
}
