{
 "cells": [
  {
   "cell_type": "markdown",
   "metadata": {},
   "source": [
    "# BFS and DFS\n",
    "\n",
    "Defining a tree by it's route, and a function that generates all the successor nodes from the root."
   ]
  },
  {
   "cell_type": "code",
   "execution_count": 5,
   "metadata": {},
   "outputs": [],
   "source": [
    "root = {\"value\":1,\"depth\":1}\n",
    "\n",
    "def succ(node):\n",
    "\n",
    "    if node['value'] == 5:\n",
    "        return []\n",
    "    elif node['value'] == 4:\n",
    "        return [{'value':5,'depth':node['depth']+1}]\n",
    "    else:\n",
    "        return [\n",
    "            {'value':node['value']+1,'depth':node['depth']+1},\n",
    "            {'value':node['value']+2,'depth':node['depth']+1},\n",
    "        ]"
   ]
  },
  {
   "cell_type": "code",
   "execution_count": 7,
   "metadata": {},
   "outputs": [
    {
     "name": "stdout",
     "output_type": "stream",
     "text": [
      "Current node is {'value': 1, 'depth': 1}\n",
      "Current node is {'value': 2, 'depth': 2}\n",
      "Current node is {'value': 3, 'depth': 2}\n",
      "Current node is {'value': 3, 'depth': 3}\n",
      "Current node is {'value': 4, 'depth': 3}\n",
      "Current node is {'value': 4, 'depth': 3}\n",
      "Current node is {'value': 5, 'depth': 3}\n",
      "Current node is {'value': 4, 'depth': 4}\n",
      "Current node is {'value': 5, 'depth': 4}\n",
      "Current node is {'value': 5, 'depth': 4}\n",
      "Current node is {'value': 5, 'depth': 4}\n",
      "Current node is {'value': 5, 'depth': 5}\n"
     ]
    },
    {
     "data": {
      "text/plain": [
       "[{'value': 1, 'depth': 1},\n",
       " {'value': 2, 'depth': 2},\n",
       " {'value': 3, 'depth': 2},\n",
       " {'value': 3, 'depth': 3},\n",
       " {'value': 4, 'depth': 3},\n",
       " {'value': 4, 'depth': 3},\n",
       " {'value': 5, 'depth': 3},\n",
       " {'value': 4, 'depth': 4},\n",
       " {'value': 5, 'depth': 4},\n",
       " {'value': 5, 'depth': 4},\n",
       " {'value': 5, 'depth': 4},\n",
       " {'value': 5, 'depth': 5}]"
      ]
     },
     "execution_count": 7,
     "metadata": {},
     "output_type": "execute_result"
    }
   ],
   "source": [
    "def bfs_tree(node):\n",
    "\n",
    "    #all the nodes that have need to be checked\n",
    "    nodes_to_visit = [node]\n",
    "    \n",
    "    #nodes that have been visited\n",
    "    visited_nodes = []\n",
    "\n",
    "    while len(nodes_to_visit) > 0:\n",
    "        \n",
    "        current_node = nodes_to_visit.pop(0)\n",
    "        print(f\"Current node is {current_node}\")\n",
    "        visited_nodes.append(current_node)\n",
    "        nodes_to_visit.extend(succ(current_node))\n",
    "    \n",
    "    return visited_nodes\n",
    "\n",
    "bfs_tree(root)"
   ]
  },
  {
   "cell_type": "code",
   "execution_count": null,
   "metadata": {},
   "outputs": [],
   "source": []
  }
 ],
 "metadata": {
  "kernelspec": {
   "display_name": "Python 3.10.4 64-bit",
   "language": "python",
   "name": "python3"
  },
  "language_info": {
   "codemirror_mode": {
    "name": "ipython",
    "version": 3
   },
   "file_extension": ".py",
   "mimetype": "text/x-python",
   "name": "python",
   "nbconvert_exporter": "python",
   "pygments_lexer": "ipython3",
   "version": "3.10.4"
  },
  "orig_nbformat": 4,
  "vscode": {
   "interpreter": {
    "hash": "916dbcbb3f70747c44a77c7bcd40155683ae19c65e1c03b4aa3499c5328201f1"
   }
  }
 },
 "nbformat": 4,
 "nbformat_minor": 2
}
